{
 "cells": [
  {
   "cell_type": "markdown",
   "id": "fefed56a-30fb-4feb-aa03-06baede18c14",
   "metadata": {},
   "source": [
    "# Graded Assessment on Performing Descriptive Statistics with Python"
   ]
  },
  {
   "cell_type": "markdown",
   "id": "8363a83b-434c-4ffd-adf2-18adfabca341",
   "metadata": {},
   "source": [
    "## Q1 A statistics test was conducted for 10 learners in a class. The mean of their score is 85 and the variance of the score is zero. What can you      interpret about the score obtained by all learners?\n",
    "Ans- Given  that the mean of the 10 learners is 85 and the variance score is 0. The interpretation is that the all the 10 students have score 85 as the variance measures the diffrence from the mean. A variance of zero means that there is no diff between the mean and the score of the 10 learners.\n"
   ]
  },
  {
   "cell_type": "markdown",
   "id": "0936e025-3960-4b93-8248-ddb77be3ca8a",
   "metadata": {},
   "source": [
    "## Q2 In a residential locality, the mean size of the house is 2224 square feet and the median value of the house is 1500 square feet. What can you interpret about the skewness in the distribution of house size? Are there bigger or smaller houses in the residential locality?\n",
    "Ans- Given that the mean of the house is 2224 Square feet and the median is 1500 sq feet. In this Case we can simply interpret that it is a positive Skewness in the distribution of houses as the Mean > Median "
   ]
  },
  {
   "cell_type": "markdown",
   "id": "90d71e5e-42bc-4e46-b0de-6f908ea4b154",
   "metadata": {},
   "source": [
    "## Q3 The following table shows the mean and variance of the expenditure for two groups of people. You want to compare the variability in expenditure for  oth groups with respect to their mean. Which statistical measure would you use to evaluate the variability in expenditure? Please provide an explanation for your answer.\n",
    "\n",
    "Ans- To comapre the variance of the expenditure for the two groups of people we can use Coefficient of variation (CV). It is a standardized measure of dispersion of a probability or frequency distribution.CV is useful as it allows us to compare the relative variability of expenditure between the two groups \n",
    "\n",
    "Formula- CV=( Standard Deviation/Mean)*100\n",
    "\n",
    "Group 1 = 125000/500000*100 = 25%\n",
    "\n",
    "Group 2 = 10000/40000*100   = 25%\n",
    "\n",
    "The CV is same for both of the groups which mean the variability in expenditure is same for both groups"
   ]
  },
  {
   "cell_type": "markdown",
   "id": "d77a2c42-62d6-4030-9114-9658bb6276da",
   "metadata": {
    "jp-MarkdownHeadingCollapsed": true
   },
   "source": [
    "## Q4. During the survey, the ages of 80 patients infected by COVID and admitted to one of the city hospitals were recorded and the collected data is represented in the less than cumulative frequency distribution table.\n",
    "\r\n",
    "\n",
    "a. Which class interval has the highest frequency?\n",
    "\n",
    "b. Which age was affected the least?\n",
    "\n",
    "c. How many patients aged 45 years and above were admitted?\n",
    "\n",
    "d. Which is the modal class interval in the above dataset\n",
    "\n",
    "e. What is the median class interval of age?\n",
    "\n",
    "Ans \n",
    "\n",
    "a) The 4th class of 35-45 has the highest frequency of 23\r\n",
    "\r\n",
    "b) 55-65 age people affected the least by 5 no. of Patients\r\n",
    "\r\n",
    "c) Total 19 patients above 45 were admitted (45-55=14,55-65=5.Therefore,14+5=19)\r\n",
    "\r\n",
    "d) The modal class interval is the class interval with highest Frequency which is the 4th one with 23 no of patients in 35-45 age group\r\n",
    "\r\n",
    "e) Formula of Median position = N+1/2 here N is the total of all patients which is 80 so 80+1/2= 40.5 to find the median class interval we need to locate the class which contains the median position. By calculating Cumulative frequency of every age group I got to know that the cumulative frequency exceeds 40.5 at the age group of 35-45. Which means the median class interval is 35-45 years of age?"
   ]
  },
  {
   "cell_type": "markdown",
   "id": "db767dd3-2783-49a2-ac25-48683a091f1b",
   "metadata": {},
   "source": [
    "## Q5 Assume you are the trader and you have invested over the years, and you are worried about the average return on investment. What average method would you use to compute the average return for the data given below?\n",
    "\n"
   ]
  },
  {
   "cell_type": "markdown",
   "id": "27c5b9da-7d13-41ff-80ec-2903a0bc2430",
   "metadata": {},
   "source": [
    "Ans- The appropriate method to calculate the avg return on investment is the Geometric Mean Method As it takes into account the compounding effect of returns over multiple periods which is crucial for financial data "
   ]
  },
  {
   "cell_type": "markdown",
   "id": "ecee4aab-917f-4570-98bf-048126a6ccd6",
   "metadata": {},
   "source": [
    "## Q6 Suppose you have been told to measure the average height of all the males on the earth. What would be your strategy for the same? Would the average height be a parameter or a statistic? Justify your answer\n",
    "\n",
    "\n",
    "Ans To measure the average height of all males on Earth, a full census would be ideal but impractical due to time, cost, and logistical constraints.   A stratified random sampling method would ensure that the sample reflects the global diversity of the male population by dividing it into diffrent factors like geography, age groups, socio-economic status, and genetics, as height varies across populations. A sufficiently large sample size should be chosen to minimize error, calculated using statistical methods to achieve desired confidence levels. Data collection should be conducted by trained personnel using good methods, such as measuring barefoot standing height, ensuring representation across regions and maintaining data quality controls. Once collected, the sample mean (average height) will estimate the population mean, and confidence intervals will help in the range within which the true average height is likely to fall.\n",
    "\n",
    "Would the average height be parameter or Statistic\n",
    "\n",
    "Parameter - In this case the average height of all males would be a parameter \n",
    "\n",
    "Statistic - In this case the average height of all males would be a statistic\n",
    "\n",
    "In conclusion, the average height of all males on Earth is a parameter, but we use a statistic to estimate it based on a representative sample."
   ]
  },
  {
   "cell_type": "markdown",
   "id": "784da21f-03c5-42ba-aaae-83c42151d7c3",
   "metadata": {},
   "source": [
    "## Q7  Calculate the z score of the following numbers: X = [4.5,6.2,7.3,9.1,10.4,11]\n",
    "\n",
    "Ans\n",
    "**Z score formula**\n",
    "\n",
    "z=X−μ/σ\n",
    " \n",
    "Where:\n",
    "z = z-score\n",
    "\n",
    "X = the value of the data point\n",
    "\n",
    "μ = the mean of the data set\n",
    "\n",
    "σ = the standard deviation of the data set\n",
    "\n",
    "Step 1 Calculate the Mean\n",
    "\n",
    "Mean = 4.5+6.2+7.3+9.1+10.4+11/6=8.08\n",
    "\n",
    "Step 2 Standard deviation \n",
    "\n",
    "Standard deviation is 2.31 \n",
    "\n",
    "Step 3 Calculate z scores \n",
    "\n",
    "x                      z\n",
    "\n",
    "4.5                    -1.55\n",
    "\n",
    "6.2                    -0.82\n",
    "  \n",
    "7.3                    -0.34\n",
    "\n",
    "9.1                     0.44\n",
    "\n",
    "10.4                    1.00\n",
    "\n",
    "11.0                    1.26"
   ]
  },
  {
   "cell_type": "code",
   "execution_count": 52,
   "id": "4b34c117-1f7a-4417-84c8-4a63884f9a99",
   "metadata": {},
   "outputs": [
    {
     "data": {
      "text/html": [
       "<div>\n",
       "<style scoped>\n",
       "    .dataframe tbody tr th:only-of-type {\n",
       "        vertical-align: middle;\n",
       "    }\n",
       "\n",
       "    .dataframe tbody tr th {\n",
       "        vertical-align: top;\n",
       "    }\n",
       "\n",
       "    .dataframe thead th {\n",
       "        text-align: right;\n",
       "    }\n",
       "</style>\n",
       "<table border=\"1\" class=\"dataframe\">\n",
       "  <thead>\n",
       "    <tr style=\"text-align: right;\">\n",
       "      <th></th>\n",
       "      <th>ID</th>\n",
       "      <th>Age</th>\n",
       "      <th>Experience</th>\n",
       "      <th>Income</th>\n",
       "      <th>ZIP Code</th>\n",
       "      <th>Family</th>\n",
       "      <th>CCAvg</th>\n",
       "      <th>Education</th>\n",
       "      <th>Mortgage</th>\n",
       "      <th>Personal Loan</th>\n",
       "      <th>Securities Account</th>\n",
       "      <th>CD Account</th>\n",
       "      <th>Online</th>\n",
       "      <th>CreditCard</th>\n",
       "    </tr>\n",
       "  </thead>\n",
       "  <tbody>\n",
       "    <tr>\n",
       "      <th>0</th>\n",
       "      <td>1</td>\n",
       "      <td>25</td>\n",
       "      <td>1</td>\n",
       "      <td>49</td>\n",
       "      <td>91107</td>\n",
       "      <td>4</td>\n",
       "      <td>1.6</td>\n",
       "      <td>1</td>\n",
       "      <td>0</td>\n",
       "      <td>0</td>\n",
       "      <td>1</td>\n",
       "      <td>0</td>\n",
       "      <td>0</td>\n",
       "      <td>0</td>\n",
       "    </tr>\n",
       "    <tr>\n",
       "      <th>1</th>\n",
       "      <td>2</td>\n",
       "      <td>45</td>\n",
       "      <td>19</td>\n",
       "      <td>34</td>\n",
       "      <td>90089</td>\n",
       "      <td>3</td>\n",
       "      <td>1.5</td>\n",
       "      <td>1</td>\n",
       "      <td>0</td>\n",
       "      <td>0</td>\n",
       "      <td>1</td>\n",
       "      <td>0</td>\n",
       "      <td>0</td>\n",
       "      <td>0</td>\n",
       "    </tr>\n",
       "    <tr>\n",
       "      <th>2</th>\n",
       "      <td>3</td>\n",
       "      <td>39</td>\n",
       "      <td>15</td>\n",
       "      <td>11</td>\n",
       "      <td>94720</td>\n",
       "      <td>1</td>\n",
       "      <td>1.0</td>\n",
       "      <td>1</td>\n",
       "      <td>0</td>\n",
       "      <td>0</td>\n",
       "      <td>0</td>\n",
       "      <td>0</td>\n",
       "      <td>0</td>\n",
       "      <td>0</td>\n",
       "    </tr>\n",
       "    <tr>\n",
       "      <th>3</th>\n",
       "      <td>4</td>\n",
       "      <td>35</td>\n",
       "      <td>9</td>\n",
       "      <td>100</td>\n",
       "      <td>94112</td>\n",
       "      <td>1</td>\n",
       "      <td>2.7</td>\n",
       "      <td>2</td>\n",
       "      <td>0</td>\n",
       "      <td>0</td>\n",
       "      <td>0</td>\n",
       "      <td>0</td>\n",
       "      <td>0</td>\n",
       "      <td>0</td>\n",
       "    </tr>\n",
       "    <tr>\n",
       "      <th>4</th>\n",
       "      <td>5</td>\n",
       "      <td>35</td>\n",
       "      <td>8</td>\n",
       "      <td>45</td>\n",
       "      <td>91330</td>\n",
       "      <td>4</td>\n",
       "      <td>1.0</td>\n",
       "      <td>2</td>\n",
       "      <td>0</td>\n",
       "      <td>0</td>\n",
       "      <td>0</td>\n",
       "      <td>0</td>\n",
       "      <td>0</td>\n",
       "      <td>1</td>\n",
       "    </tr>\n",
       "    <tr>\n",
       "      <th>5</th>\n",
       "      <td>6</td>\n",
       "      <td>37</td>\n",
       "      <td>13</td>\n",
       "      <td>29</td>\n",
       "      <td>92121</td>\n",
       "      <td>4</td>\n",
       "      <td>0.4</td>\n",
       "      <td>2</td>\n",
       "      <td>155</td>\n",
       "      <td>0</td>\n",
       "      <td>0</td>\n",
       "      <td>0</td>\n",
       "      <td>1</td>\n",
       "      <td>0</td>\n",
       "    </tr>\n",
       "    <tr>\n",
       "      <th>6</th>\n",
       "      <td>7</td>\n",
       "      <td>53</td>\n",
       "      <td>27</td>\n",
       "      <td>72</td>\n",
       "      <td>91711</td>\n",
       "      <td>2</td>\n",
       "      <td>1.5</td>\n",
       "      <td>2</td>\n",
       "      <td>0</td>\n",
       "      <td>0</td>\n",
       "      <td>0</td>\n",
       "      <td>0</td>\n",
       "      <td>1</td>\n",
       "      <td>0</td>\n",
       "    </tr>\n",
       "    <tr>\n",
       "      <th>7</th>\n",
       "      <td>8</td>\n",
       "      <td>50</td>\n",
       "      <td>24</td>\n",
       "      <td>22</td>\n",
       "      <td>93943</td>\n",
       "      <td>1</td>\n",
       "      <td>0.3</td>\n",
       "      <td>3</td>\n",
       "      <td>0</td>\n",
       "      <td>0</td>\n",
       "      <td>0</td>\n",
       "      <td>0</td>\n",
       "      <td>0</td>\n",
       "      <td>1</td>\n",
       "    </tr>\n",
       "    <tr>\n",
       "      <th>8</th>\n",
       "      <td>9</td>\n",
       "      <td>35</td>\n",
       "      <td>10</td>\n",
       "      <td>81</td>\n",
       "      <td>90089</td>\n",
       "      <td>3</td>\n",
       "      <td>0.6</td>\n",
       "      <td>2</td>\n",
       "      <td>104</td>\n",
       "      <td>0</td>\n",
       "      <td>0</td>\n",
       "      <td>0</td>\n",
       "      <td>1</td>\n",
       "      <td>0</td>\n",
       "    </tr>\n",
       "    <tr>\n",
       "      <th>9</th>\n",
       "      <td>10</td>\n",
       "      <td>34</td>\n",
       "      <td>9</td>\n",
       "      <td>180</td>\n",
       "      <td>93023</td>\n",
       "      <td>1</td>\n",
       "      <td>8.9</td>\n",
       "      <td>3</td>\n",
       "      <td>0</td>\n",
       "      <td>1</td>\n",
       "      <td>0</td>\n",
       "      <td>0</td>\n",
       "      <td>0</td>\n",
       "      <td>0</td>\n",
       "    </tr>\n",
       "  </tbody>\n",
       "</table>\n",
       "</div>"
      ],
      "text/plain": [
       "   ID  Age  Experience  Income  ZIP Code  Family  CCAvg  Education  Mortgage  \\\n",
       "0   1   25           1      49     91107       4    1.6          1         0   \n",
       "1   2   45          19      34     90089       3    1.5          1         0   \n",
       "2   3   39          15      11     94720       1    1.0          1         0   \n",
       "3   4   35           9     100     94112       1    2.7          2         0   \n",
       "4   5   35           8      45     91330       4    1.0          2         0   \n",
       "5   6   37          13      29     92121       4    0.4          2       155   \n",
       "6   7   53          27      72     91711       2    1.5          2         0   \n",
       "7   8   50          24      22     93943       1    0.3          3         0   \n",
       "8   9   35          10      81     90089       3    0.6          2       104   \n",
       "9  10   34           9     180     93023       1    8.9          3         0   \n",
       "\n",
       "   Personal Loan  Securities Account  CD Account  Online  CreditCard  \n",
       "0              0                   1           0       0           0  \n",
       "1              0                   1           0       0           0  \n",
       "2              0                   0           0       0           0  \n",
       "3              0                   0           0       0           0  \n",
       "4              0                   0           0       0           1  \n",
       "5              0                   0           0       1           0  \n",
       "6              0                   0           0       1           0  \n",
       "7              0                   0           0       0           1  \n",
       "8              0                   0           0       1           0  \n",
       "9              1                   0           0       0           0  "
      ]
     },
     "execution_count": 52,
     "metadata": {},
     "output_type": "execute_result"
    }
   ],
   "source": [
    "import pandas as pd\n",
    "import numpy as np\n",
    "# Seed for reproducibility (intervals)\n",
    "df_1= pd.read_csv(r\"C:\\Users\\LENOVO\\Downloads\\Bank Personal Loan Modelling.csv\")\n",
    "df_1.head(10)"
   ]
  },
  {
   "cell_type": "markdown",
   "id": "321de13c-af24-4aa6-9de9-370fad197563",
   "metadata": {},
   "source": [
    "## Q8 Give us the statistical summary for all the variables in the dataset."
   ]
  },
  {
   "cell_type": "code",
   "execution_count": 12,
   "id": "1de5449b-e5a9-4506-acec-b9cdce1911b2",
   "metadata": {},
   "outputs": [
    {
     "data": {
      "text/html": [
       "<div>\n",
       "<style scoped>\n",
       "    .dataframe tbody tr th:only-of-type {\n",
       "        vertical-align: middle;\n",
       "    }\n",
       "\n",
       "    .dataframe tbody tr th {\n",
       "        vertical-align: top;\n",
       "    }\n",
       "\n",
       "    .dataframe thead th {\n",
       "        text-align: right;\n",
       "    }\n",
       "</style>\n",
       "<table border=\"1\" class=\"dataframe\">\n",
       "  <thead>\n",
       "    <tr style=\"text-align: right;\">\n",
       "      <th></th>\n",
       "      <th>ID</th>\n",
       "      <th>Age</th>\n",
       "      <th>Experience</th>\n",
       "      <th>Income</th>\n",
       "      <th>ZIP Code</th>\n",
       "      <th>Family</th>\n",
       "      <th>CCAvg</th>\n",
       "      <th>Education</th>\n",
       "      <th>Mortgage</th>\n",
       "      <th>Personal Loan</th>\n",
       "      <th>Securities Account</th>\n",
       "      <th>CD Account</th>\n",
       "      <th>Online</th>\n",
       "      <th>CreditCard</th>\n",
       "    </tr>\n",
       "  </thead>\n",
       "  <tbody>\n",
       "    <tr>\n",
       "      <th>count</th>\n",
       "      <td>5000.000000</td>\n",
       "      <td>5000.000000</td>\n",
       "      <td>5000.000000</td>\n",
       "      <td>5000.000000</td>\n",
       "      <td>5000.000000</td>\n",
       "      <td>5000.000000</td>\n",
       "      <td>5000.000000</td>\n",
       "      <td>5000.000000</td>\n",
       "      <td>5000.000000</td>\n",
       "      <td>5000.000000</td>\n",
       "      <td>5000.000000</td>\n",
       "      <td>5000.00000</td>\n",
       "      <td>5000.000000</td>\n",
       "      <td>5000.000000</td>\n",
       "    </tr>\n",
       "    <tr>\n",
       "      <th>mean</th>\n",
       "      <td>2500.500000</td>\n",
       "      <td>45.338400</td>\n",
       "      <td>20.104600</td>\n",
       "      <td>73.774200</td>\n",
       "      <td>93152.503000</td>\n",
       "      <td>2.396400</td>\n",
       "      <td>1.937938</td>\n",
       "      <td>1.881000</td>\n",
       "      <td>56.498800</td>\n",
       "      <td>0.096000</td>\n",
       "      <td>0.104400</td>\n",
       "      <td>0.06040</td>\n",
       "      <td>0.596800</td>\n",
       "      <td>0.294000</td>\n",
       "    </tr>\n",
       "    <tr>\n",
       "      <th>std</th>\n",
       "      <td>1443.520003</td>\n",
       "      <td>11.463166</td>\n",
       "      <td>11.467954</td>\n",
       "      <td>46.033729</td>\n",
       "      <td>2121.852197</td>\n",
       "      <td>1.147663</td>\n",
       "      <td>1.747659</td>\n",
       "      <td>0.839869</td>\n",
       "      <td>101.713802</td>\n",
       "      <td>0.294621</td>\n",
       "      <td>0.305809</td>\n",
       "      <td>0.23825</td>\n",
       "      <td>0.490589</td>\n",
       "      <td>0.455637</td>\n",
       "    </tr>\n",
       "    <tr>\n",
       "      <th>min</th>\n",
       "      <td>1.000000</td>\n",
       "      <td>23.000000</td>\n",
       "      <td>-3.000000</td>\n",
       "      <td>8.000000</td>\n",
       "      <td>9307.000000</td>\n",
       "      <td>1.000000</td>\n",
       "      <td>0.000000</td>\n",
       "      <td>1.000000</td>\n",
       "      <td>0.000000</td>\n",
       "      <td>0.000000</td>\n",
       "      <td>0.000000</td>\n",
       "      <td>0.00000</td>\n",
       "      <td>0.000000</td>\n",
       "      <td>0.000000</td>\n",
       "    </tr>\n",
       "    <tr>\n",
       "      <th>25%</th>\n",
       "      <td>1250.750000</td>\n",
       "      <td>35.000000</td>\n",
       "      <td>10.000000</td>\n",
       "      <td>39.000000</td>\n",
       "      <td>91911.000000</td>\n",
       "      <td>1.000000</td>\n",
       "      <td>0.700000</td>\n",
       "      <td>1.000000</td>\n",
       "      <td>0.000000</td>\n",
       "      <td>0.000000</td>\n",
       "      <td>0.000000</td>\n",
       "      <td>0.00000</td>\n",
       "      <td>0.000000</td>\n",
       "      <td>0.000000</td>\n",
       "    </tr>\n",
       "    <tr>\n",
       "      <th>50%</th>\n",
       "      <td>2500.500000</td>\n",
       "      <td>45.000000</td>\n",
       "      <td>20.000000</td>\n",
       "      <td>64.000000</td>\n",
       "      <td>93437.000000</td>\n",
       "      <td>2.000000</td>\n",
       "      <td>1.500000</td>\n",
       "      <td>2.000000</td>\n",
       "      <td>0.000000</td>\n",
       "      <td>0.000000</td>\n",
       "      <td>0.000000</td>\n",
       "      <td>0.00000</td>\n",
       "      <td>1.000000</td>\n",
       "      <td>0.000000</td>\n",
       "    </tr>\n",
       "    <tr>\n",
       "      <th>75%</th>\n",
       "      <td>3750.250000</td>\n",
       "      <td>55.000000</td>\n",
       "      <td>30.000000</td>\n",
       "      <td>98.000000</td>\n",
       "      <td>94608.000000</td>\n",
       "      <td>3.000000</td>\n",
       "      <td>2.500000</td>\n",
       "      <td>3.000000</td>\n",
       "      <td>101.000000</td>\n",
       "      <td>0.000000</td>\n",
       "      <td>0.000000</td>\n",
       "      <td>0.00000</td>\n",
       "      <td>1.000000</td>\n",
       "      <td>1.000000</td>\n",
       "    </tr>\n",
       "    <tr>\n",
       "      <th>max</th>\n",
       "      <td>5000.000000</td>\n",
       "      <td>67.000000</td>\n",
       "      <td>43.000000</td>\n",
       "      <td>224.000000</td>\n",
       "      <td>96651.000000</td>\n",
       "      <td>4.000000</td>\n",
       "      <td>10.000000</td>\n",
       "      <td>3.000000</td>\n",
       "      <td>635.000000</td>\n",
       "      <td>1.000000</td>\n",
       "      <td>1.000000</td>\n",
       "      <td>1.00000</td>\n",
       "      <td>1.000000</td>\n",
       "      <td>1.000000</td>\n",
       "    </tr>\n",
       "  </tbody>\n",
       "</table>\n",
       "</div>"
      ],
      "text/plain": [
       "                ID          Age   Experience       Income      ZIP Code  \\\n",
       "count  5000.000000  5000.000000  5000.000000  5000.000000   5000.000000   \n",
       "mean   2500.500000    45.338400    20.104600    73.774200  93152.503000   \n",
       "std    1443.520003    11.463166    11.467954    46.033729   2121.852197   \n",
       "min       1.000000    23.000000    -3.000000     8.000000   9307.000000   \n",
       "25%    1250.750000    35.000000    10.000000    39.000000  91911.000000   \n",
       "50%    2500.500000    45.000000    20.000000    64.000000  93437.000000   \n",
       "75%    3750.250000    55.000000    30.000000    98.000000  94608.000000   \n",
       "max    5000.000000    67.000000    43.000000   224.000000  96651.000000   \n",
       "\n",
       "            Family        CCAvg    Education     Mortgage  Personal Loan  \\\n",
       "count  5000.000000  5000.000000  5000.000000  5000.000000    5000.000000   \n",
       "mean      2.396400     1.937938     1.881000    56.498800       0.096000   \n",
       "std       1.147663     1.747659     0.839869   101.713802       0.294621   \n",
       "min       1.000000     0.000000     1.000000     0.000000       0.000000   \n",
       "25%       1.000000     0.700000     1.000000     0.000000       0.000000   \n",
       "50%       2.000000     1.500000     2.000000     0.000000       0.000000   \n",
       "75%       3.000000     2.500000     3.000000   101.000000       0.000000   \n",
       "max       4.000000    10.000000     3.000000   635.000000       1.000000   \n",
       "\n",
       "       Securities Account  CD Account       Online   CreditCard  \n",
       "count         5000.000000  5000.00000  5000.000000  5000.000000  \n",
       "mean             0.104400     0.06040     0.596800     0.294000  \n",
       "std              0.305809     0.23825     0.490589     0.455637  \n",
       "min              0.000000     0.00000     0.000000     0.000000  \n",
       "25%              0.000000     0.00000     0.000000     0.000000  \n",
       "50%              0.000000     0.00000     1.000000     0.000000  \n",
       "75%              0.000000     0.00000     1.000000     1.000000  \n",
       "max              1.000000     1.00000     1.000000     1.000000  "
      ]
     },
     "execution_count": 12,
     "metadata": {},
     "output_type": "execute_result"
    }
   ],
   "source": [
    "df_1.describe()"
   ]
  },
  {
   "cell_type": "markdown",
   "id": "1204ea0f-bcaa-49cc-8192-bb632186e2f7",
   "metadata": {},
   "source": [
    "## Q9 Evaluate the measures of central tendency and measures of dispersion for all the quantitative variables in the dataset."
   ]
  },
  {
   "cell_type": "code",
   "execution_count": 54,
   "id": "1135d0d7-b0e1-4235-b670-4603f0181506",
   "metadata": {},
   "outputs": [
    {
     "name": "stdout",
     "output_type": "stream",
     "text": [
      "                            Mean   Median      Variance  Standard Deviation  \\\n",
      "ID                   2500.500000   2500.5  2.083750e+06         1443.520003   \n",
      "Age                    45.338400     45.0  1.314042e+02           11.463166   \n",
      "Experience             20.104600     20.0  1.315140e+02           11.467954   \n",
      "Income                 73.774200     64.0  2.119104e+03           46.033729   \n",
      "ZIP Code            93152.503000  93437.0  4.502257e+06         2121.852197   \n",
      "Family                  2.396400      2.0  1.317130e+00            1.147663   \n",
      "CCAvg                   1.937938      1.5  3.054312e+00            1.747659   \n",
      "Education               1.881000      2.0  7.053801e-01            0.839869   \n",
      "Mortgage               56.498800      0.0  1.034570e+04          101.713802   \n",
      "Personal Loan           0.096000      0.0  8.680136e-02            0.294621   \n",
      "Securities Account      0.104400      0.0  9.351934e-02            0.305809   \n",
      "CD Account              0.060400      0.0  5.676319e-02            0.238250   \n",
      "Online                  0.596800      1.0  2.406779e-01            0.490589   \n",
      "CreditCard              0.294000      0.0  2.076055e-01            0.455637   \n",
      "\n",
      "                      Range  \n",
      "ID                   4999.0  \n",
      "Age                    44.0  \n",
      "Experience             46.0  \n",
      "Income                216.0  \n",
      "ZIP Code            87344.0  \n",
      "Family                  3.0  \n",
      "CCAvg                  10.0  \n",
      "Education               2.0  \n",
      "Mortgage              635.0  \n",
      "Personal Loan           1.0  \n",
      "Securities Account      1.0  \n",
      "CD Account              1.0  \n",
      "Online                  1.0  \n",
      "CreditCard              1.0  \n"
     ]
    }
   ],
   "source": [
    "df_1_num=df_1.select_dtypes(include=[np.number])\n",
    "df_1_num\n",
    "\n",
    "mean = df_1_num.mean()\n",
    "median = df_1_num.median()\n",
    "variance = df_1_num.var()\n",
    "std_dev  = df_1_num.std()\n",
    "range = df_1_num.max() - df_1_num.min()\n",
    "\n",
    "\n",
    "summary = pd.DataFrame({'Mean': mean,'Median': median,'Variance': variance,'Standard Deviation': std_dev,'Range': range})\n",
    "\n",
    "print(summary)"
   ]
  },
  {
   "cell_type": "markdown",
   "id": "e1961cbe-ce48-4694-b55c-aea85ec247a0",
   "metadata": {},
   "source": [
    "## Q10 What statistical method will you use to examine the presence of a linear relationship between age and experience variables? Also, create a plot to illustrate this relationship."
   ]
  },
  {
   "cell_type": "code",
   "execution_count": 15,
   "id": "09298bce-fb38-4bf5-8ce0-bf0b5255c33f",
   "metadata": {},
   "outputs": [
    {
     "data": {
      "image/png": "[encoded data removed]",
      "text/plain": [
       "<Figure size 640x480 with 1 Axes>"
      ]
     },
     "metadata": {},
     "output_type": "display_data"
    }
   ],
   "source": [
    "import seaborn as sns\n",
    "import matplotlib.pyplot as plt\n",
    "import pandas as pd\n",
    "sns.scatterplot(x=df_1['Age'],y=df_1['Experience'])\n",
    "plt.xlabel('Age')\n",
    "plt.ylabel('Experience')\n",
    "plt.show()"
   ]
  },
  {
   "cell_type": "markdown",
   "id": "0335b942-d73f-42db-b404-0dabf58d9e32",
   "metadata": {},
   "source": [
    "## Q11 What is the most frequent family size observed in this dataset?"
   ]
  },
  {
   "cell_type": "code",
   "execution_count": 17,
   "id": "ee68a8ad-4c02-4e86-aebb-d612d481a4fa",
   "metadata": {},
   "outputs": [
    {
     "data": {
      "text/plain": [
       "0    1\n",
       "Name: Family, dtype: int64"
      ]
     },
     "execution_count": 17,
     "metadata": {},
     "output_type": "execute_result"
    }
   ],
   "source": [
    "df_1['Family'].mode()"
   ]
  },
  {
   "cell_type": "markdown",
   "id": "6099536a-0591-4ed1-90c1-4d98d09f87e0",
   "metadata": {},
   "source": [
    "## Q12. What is the percentage of variation you can observe in the ‘Income’ variable?"
   ]
  },
  {
   "cell_type": "code",
   "execution_count": 19,
   "id": "5fd99305-8f77-4f7d-b502-3c137a3beb3a",
   "metadata": {},
   "outputs": [
    {
     "data": {
      "text/plain": [
       "62.39814097758612"
      ]
     },
     "execution_count": 19,
     "metadata": {},
     "output_type": "execute_result"
    }
   ],
   "source": [
    "cv = df_1['Income'].std() / df_1['Income'].mean() * 100\n",
    "cv"
   ]
  },
  {
   "cell_type": "markdown",
   "id": "b1c116c8-3ce4-4e7c-a5e5-bdb64d3d1bee",
   "metadata": {},
   "source": [
    "## Q13 The ‘Mortgage’ variable has a lot of zeroes. Impute with some business logical value"
   ]
  },
  {
   "cell_type": "code",
   "execution_count": 21,
   "id": "4afc8468-034f-4a1f-96a1-3ada3b38c09e",
   "metadata": {},
   "outputs": [
    {
     "name": "stdout",
     "output_type": "stream",
     "text": [
      "   Mortgage\n",
      "0       187\n",
      "1       408\n",
      "2       397\n",
      "3       374\n",
      "4       235\n",
      "5       232\n",
      "6        31\n",
      "7        32\n",
      "8       332\n",
      "9       172\n"
     ]
    }
   ],
   "source": [
    "import pandas as pd\n",
    "mortgage_data = [187, 408, 397, 374, 235, 232, 31, 32, 332, 172]\n",
    "df_mortgage = pd.DataFrame({'Mortgage': mortgage_data})\n",
    "mean_mortgage_non_zero = df_mortgage[df_mortgage['Mortgage'] != 0]['Mortgage'].mean()\n",
    "df_mortgage['Mortgage'] = df_mortgage['Mortgage'].replace(0, mean_mortgage_non_zero)\n",
    "print(df_mortgage)"
   ]
  },
  {
   "cell_type": "markdown",
   "id": "e36243f0-a4cd-4cb4-8312-d448969dc117",
   "metadata": {},
   "source": [
    "## Q14 Plot a density curve of the CCAvg variable for the customers who possess credit cards and write an interpretation about its distribution."
   ]
  },
  {
   "cell_type": "code",
   "execution_count": 23,
   "id": "316434ad-67b4-44c4-b28e-4da7bc1f5a65",
   "metadata": {},
   "outputs": [
    {
     "data": {
      "text/plain": [
       "<Axes: xlabel='CCAvg', ylabel='Density'>"
      ]
     },
     "execution_count": 23,
     "metadata": {},
     "output_type": "execute_result"
    },
    {
     "data": {
      "image/png": "[encoded data removed]",
      "text/plain": [
       "<Figure size 640x480 with 1 Axes>"
      ]
     },
     "metadata": {},
     "output_type": "display_data"
    }
   ],
   "source": [
    "import seaborn as sns\n",
    "sns.kdeplot(df_1[df_1['CreditCard'] == 1]['CCAvg'])"
   ]
  },
  {
   "cell_type": "markdown",
   "id": "b33de546-0b23-4998-aab1-a5a2ee73b521",
   "metadata": {},
   "source": [
    "## Q15. Do you see any outliers in the dataset? If yes, what plot you would think will be suitable to showcase to the stakeholders? "
   ]
  },
  {
   "cell_type": "code",
   "execution_count": 25,
   "id": "2250ea58-81ae-41d4-85f9-009e4f919b31",
   "metadata": {},
   "outputs": [
    {
     "data": {
      "text/plain": [
       "<Axes: ylabel='Income'>"
      ]
     },
     "execution_count": 25,
     "metadata": {},
     "output_type": "execute_result"
    },
    {
     "data": {
      "image/png": "[encoded data removed]",
      "text/plain": [
       "<Figure size 640x480 with 1 Axes>"
      ]
     },
     "metadata": {},
     "output_type": "display_data"
    }
   ],
   "source": [
    "sns.boxplot(df_1['Income'])"
   ]
  },
  {
   "cell_type": "markdown",
   "id": "bf96222d-d9a4-4418-aafd-35b7b2fe28dc",
   "metadata": {},
   "source": [
    "## Q16. Give us the decile values of the variable ‘Income’ in the dataset."
   ]
  },
  {
   "cell_type": "code",
   "execution_count": 27,
   "id": "5778880c-0fe0-4510-99a7-899e31c62235",
   "metadata": {},
   "outputs": [
    {
     "data": {
      "text/plain": [
       "0.1     22.0\n",
       "0.2     33.0\n",
       "0.3     42.0\n",
       "0.4     52.0\n",
       "0.5     64.0\n",
       "0.6     78.0\n",
       "0.7     88.3\n",
       "0.8    113.0\n",
       "0.9    145.0\n",
       "Name: Income, dtype: float64"
      ]
     },
     "execution_count": 27,
     "metadata": {},
     "output_type": "execute_result"
    }
   ],
   "source": [
    "df_1['Income'].quantile([0.1, 0.2, 0.3, 0.4, 0.5, 0.6, 0.7, 0.8, 0.9])"
   ]
  },
  {
   "cell_type": "markdown",
   "id": "9f3b00a3-20a5-48f1-9a7e-51e0f58b2ed0",
   "metadata": {},
   "source": [
    "## Q17. Give the IQR of all the variables which are quantitative and continuous."
   ]
  },
  {
   "cell_type": "code",
   "execution_count": 29,
   "id": "d90350f9-0f62-4b7d-bd19-da7064e7fe51",
   "metadata": {},
   "outputs": [
    {
     "data": {
      "text/plain": [
       "59.0"
      ]
     },
     "execution_count": 29,
     "metadata": {},
     "output_type": "execute_result"
    }
   ],
   "source": [
    "IQR = df_1['Income'].quantile(0.75) - df_1['Income'].quantile(0.25)\n",
    "IQR"
   ]
  },
  {
   "cell_type": "markdown",
   "id": "97e3093e-65fe-4c6c-8cd0-92ab1cb62f15",
   "metadata": {},
   "source": [
    "## Q18. Do the higher-income holders spend more on credit cards?"
   ]
  },
  {
   "cell_type": "code",
   "execution_count": 50,
   "id": "57788da7-df19-4abc-be69-92a4f44cbdcd",
   "metadata": {},
   "outputs": [
    {
     "data": {
      "text/html": [
       "<div>\n",
       "<style scoped>\n",
       "    .dataframe tbody tr th:only-of-type {\n",
       "        vertical-align: middle;\n",
       "    }\n",
       "\n",
       "    .dataframe tbody tr th {\n",
       "        vertical-align: top;\n",
       "    }\n",
       "\n",
       "    .dataframe thead th {\n",
       "        text-align: right;\n",
       "    }\n",
       "</style>\n",
       "<table border=\"1\" class=\"dataframe\">\n",
       "  <thead>\n",
       "    <tr style=\"text-align: right;\">\n",
       "      <th></th>\n",
       "      <th>Income</th>\n",
       "      <th>CCAvg</th>\n",
       "      <th>ID</th>\n",
       "    </tr>\n",
       "  </thead>\n",
       "  <tbody>\n",
       "    <tr>\n",
       "      <th>Income</th>\n",
       "      <td>1.000000</td>\n",
       "      <td>0.645984</td>\n",
       "      <td>-0.017695</td>\n",
       "    </tr>\n",
       "    <tr>\n",
       "      <th>CCAvg</th>\n",
       "      <td>0.645984</td>\n",
       "      <td>1.000000</td>\n",
       "      <td>-0.024675</td>\n",
       "    </tr>\n",
       "    <tr>\n",
       "      <th>ID</th>\n",
       "      <td>-0.017695</td>\n",
       "      <td>-0.024675</td>\n",
       "      <td>1.000000</td>\n",
       "    </tr>\n",
       "  </tbody>\n",
       "</table>\n",
       "</div>"
      ],
      "text/plain": [
       "          Income     CCAvg        ID\n",
       "Income  1.000000  0.645984 -0.017695\n",
       "CCAvg   0.645984  1.000000 -0.024675\n",
       "ID     -0.017695 -0.024675  1.000000"
      ]
     },
     "execution_count": 50,
     "metadata": {},
     "output_type": "execute_result"
    }
   ],
   "source": [
    "df_1[['Income', 'CCAvg','ID']].corr()"
   ]
  },
  {
   "cell_type": "markdown",
   "id": "fc6aa655-acf2-4281-b90c-99d145686536",
   "metadata": {},
   "source": [
    "## Q19. How many customers use online banking? Do customers using bank internet facilities have higher incomes?"
   ]
  },
  {
   "cell_type": "code",
   "execution_count": 33,
   "id": "b8276683-4c76-42c3-a4ab-bccbfc796d81",
   "metadata": {},
   "outputs": [
    {
     "data": {
      "text/plain": [
       "(74.31166219839142, 72.97867063492063)"
      ]
     },
     "execution_count": 33,
     "metadata": {},
     "output_type": "execute_result"
    }
   ],
   "source": [
    "online_users = df_1[df_1['Online'] == 1]\n",
    "non_online_users = df_1[df_1['Online'] == 0]\n",
    "online_users['Income'].mean(), non_online_users['Income'].mean()"
   ]
  },
  {
   "cell_type": "markdown",
   "id": "111b43d8-9aeb-41f5-9f28-af5bcfe66142",
   "metadata": {},
   "source": [
    "## Q20. Using the z-score of the income variable, find out the number of observations outside the +-3σ"
   ]
  },
  {
   "cell_type": "code",
   "execution_count": 35,
   "id": "e02f6490-e184-4d5d-87c1-faf827c7e672",
   "metadata": {},
   "outputs": [
    {
     "data": {
      "text/html": [
       "<div>\n",
       "<style scoped>\n",
       "    .dataframe tbody tr th:only-of-type {\n",
       "        vertical-align: middle;\n",
       "    }\n",
       "\n",
       "    .dataframe tbody tr th {\n",
       "        vertical-align: top;\n",
       "    }\n",
       "\n",
       "    .dataframe thead th {\n",
       "        text-align: right;\n",
       "    }\n",
       "</style>\n",
       "<table border=\"1\" class=\"dataframe\">\n",
       "  <thead>\n",
       "    <tr style=\"text-align: right;\">\n",
       "      <th></th>\n",
       "      <th>ID</th>\n",
       "      <th>Age</th>\n",
       "      <th>Experience</th>\n",
       "      <th>Income</th>\n",
       "      <th>ZIP Code</th>\n",
       "      <th>Family</th>\n",
       "      <th>CCAvg</th>\n",
       "      <th>Education</th>\n",
       "      <th>Mortgage</th>\n",
       "      <th>Personal Loan</th>\n",
       "      <th>Securities Account</th>\n",
       "      <th>CD Account</th>\n",
       "      <th>Online</th>\n",
       "      <th>CreditCard</th>\n",
       "      <th>z_score</th>\n",
       "    </tr>\n",
       "  </thead>\n",
       "  <tbody>\n",
       "    <tr>\n",
       "      <th>3896</th>\n",
       "      <td>3897</td>\n",
       "      <td>48</td>\n",
       "      <td>24</td>\n",
       "      <td>224</td>\n",
       "      <td>93940</td>\n",
       "      <td>2</td>\n",
       "      <td>6.67</td>\n",
       "      <td>1</td>\n",
       "      <td>0</td>\n",
       "      <td>0</td>\n",
       "      <td>0</td>\n",
       "      <td>1</td>\n",
       "      <td>1</td>\n",
       "      <td>1</td>\n",
       "      <td>3.263712</td>\n",
       "    </tr>\n",
       "    <tr>\n",
       "      <th>4993</th>\n",
       "      <td>4994</td>\n",
       "      <td>45</td>\n",
       "      <td>21</td>\n",
       "      <td>218</td>\n",
       "      <td>91801</td>\n",
       "      <td>2</td>\n",
       "      <td>6.67</td>\n",
       "      <td>1</td>\n",
       "      <td>0</td>\n",
       "      <td>0</td>\n",
       "      <td>0</td>\n",
       "      <td>0</td>\n",
       "      <td>1</td>\n",
       "      <td>0</td>\n",
       "      <td>3.133360</td>\n",
       "    </tr>\n",
       "  </tbody>\n",
       "</table>\n",
       "</div>"
      ],
      "text/plain": [
       "        ID  Age  Experience  Income  ZIP Code  Family  CCAvg  Education  \\\n",
       "3896  3897   48          24     224     93940       2   6.67          1   \n",
       "4993  4994   45          21     218     91801       2   6.67          1   \n",
       "\n",
       "      Mortgage  Personal Loan  Securities Account  CD Account  Online  \\\n",
       "3896         0              0                   0           1       1   \n",
       "4993         0              0                   0           0       1   \n",
       "\n",
       "      CreditCard   z_score  \n",
       "3896           1  3.263712  \n",
       "4993           0  3.133360  "
      ]
     },
     "execution_count": 35,
     "metadata": {},
     "output_type": "execute_result"
    }
   ],
   "source": [
    "from scipy.stats import zscore\n",
    "df_1['z_score'] = zscore(df_1['Income'])\n",
    "outliers = df_1[(df_1['z_score'] > 3) | (df_1['z_score'] < -3)]\n",
    "outliers"
   ]
  }
 ],
 "metadata": {
  "kernelspec": {
   "display_name": "Python 3 (ipykernel)",
   "language": "python",
   "name": "python3"
  },
  "language_info": {
   "codemirror_mode": {
    "name": "ipython",
    "version": 3
   },
   "file_extension": ".py",
   "mimetype": "text/x-python",
   "name": "python",
   "nbconvert_exporter": "python",
   "pygments_lexer": "ipython3",
   "version": "3.12.4"
  }
 },
 "nbformat": 4,
 "nbformat_minor": 5
}
